{
  "nbformat": 4,
  "nbformat_minor": 0,
  "metadata": {
    "colab": {
      "name": "DimReduction1.ipynb",
      "provenance": [],
      "collapsed_sections": [],
      "authorship_tag": "ABX9TyNznQuCZSFU74rj80Bi7H/K",
      "include_colab_link": true
    },
    "kernelspec": {
      "name": "python3",
      "display_name": "Python 3"
    },
    "language_info": {
      "name": "python"
    }
  },
  "cells": [
    {
      "cell_type": "markdown",
      "metadata": {
        "id": "view-in-github",
        "colab_type": "text"
      },
      "source": [
        "<a href=\"https://colab.research.google.com/github/robcovino/MSDAP_notebooks/blob/main/DimReduction1.ipynb\" target=\"_parent\"><img src=\"https://colab.research.google.com/assets/colab-badge.svg\" alt=\"Open In Colab\"/></a>"
      ]
    },
    {
      "cell_type": "markdown",
      "source": [
        "# 1. Dimensionality reduction -- Principal component analysis\n",
        "\n",
        "In this section, we explore what is perhaps one of the most broadly used of unsupervised algorithms, principal component analysis (PCA).\n",
        "PCA is fundamentally a dimensionality reduction algorithm, but it can also be useful as a tool for visualization, for noise filtering, for feature extraction and engineering, and much more.\n",
        "After a brief conceptual discussion of the PCA algorithm, we will see a couple examples of these further applications."
      ],
      "metadata": {
        "id": "42dX9RxXmJXg"
      }
    },
    {
      "cell_type": "code",
      "execution_count": null,
      "metadata": {
        "id": "CgOh9m6TmHY0"
      },
      "outputs": [],
      "source": [
        "import numpy as np\n",
        "import matplotlib.pyplot as plt"
      ]
    },
    {
      "cell_type": "markdown",
      "source": [
        "---\n",
        "## Introducing Principal Component Analysis\n",
        "\n",
        "Principal component analysis is a fast and flexible unsupervised method for dimensionality reduction in data.\n",
        "Its behavior is easiest to visualize by looking at a two-dimensional dataset.\n",
        "Consider the following 200 points:"
      ],
      "metadata": {
        "id": "ZARf0ZR7mbc0"
      }
    },
    {
      "cell_type": "code",
      "source": [
        "rng = np.random.RandomState(1)\n",
        "X = np.dot(rng.rand(2, 2), rng.randn(2, 200)).T\n",
        "plt.scatter(X[:, 0], X[:, 1])\n",
        "plt.show()"
      ],
      "metadata": {
        "colab": {
          "base_uri": "https://localhost:8080/",
          "height": 269
        },
        "id": "3820DZWome5N",
        "outputId": "ae73ba02-c37b-411a-bf78-612b0ce381e7"
      },
      "execution_count": null,
      "outputs": [
        {
          "output_type": "display_data",
          "data": {
            "text/plain": [
              "<Figure size 432x288 with 1 Axes>"
            ],
            "image/png": "[encoded data removed]"
          },
          "metadata": {
            "needs_background": "light"
          }
        }
      ]
    },
    {
      "cell_type": "markdown",
      "source": [
        "Q1. Work out what we did to generate the random cloud of 2d data.\n",
        "\n",
        "Q2. What is the intrinsic dimensionality of the data? \n",
        "\n",
        "In principal component analysis, this relationship is quantified by finding a list of the *principal axes* in the data, and using those axes to describe the dataset.\n",
        "\n",
        "Q3. Use Scikit-Learn's ``PCA`` estimator to calculate the principal components. Use <b> n_components=2 </b>."
      ],
      "metadata": {
        "id": "UyOhwC2Vm8i1"
      }
    },
    {
      "cell_type": "code",
      "source": [
        "from sklearn.decomposition import PCA\n"
      ],
      "metadata": {
        "id": "-eH0-EPVnQ5j"
      },
      "execution_count": null,
      "outputs": []
    },
    {
      "cell_type": "markdown",
      "source": [
        "The fit learns some quantities from the data, most importantly the \"components\" and \"explained variance\":"
      ],
      "metadata": {
        "id": "yrEBwj4yol1V"
      }
    },
    {
      "cell_type": "code",
      "source": [
        "print(pca.components_)"
      ],
      "metadata": {
        "id": "6xdCSyxqok8E"
      },
      "execution_count": null,
      "outputs": []
    },
    {
      "cell_type": "code",
      "source": [
        "print(pca.explained_variance_)"
      ],
      "metadata": {
        "id": "N1rKp4EbopAf"
      },
      "execution_count": null,
      "outputs": []
    },
    {
      "cell_type": "markdown",
      "source": [
        "To see what these numbers mean, let's visualize them as vectors over the input data, using the \"components\" to define the direction of the vector, and the \"explained variance\" to define the squared-length of the vector:"
      ],
      "metadata": {
        "id": "DZtzijvvo60n"
      }
    },
    {
      "cell_type": "code",
      "source": [
        "def draw_vector(v0, v1, ax=None):\n",
        "    ax = ax or plt.gca()\n",
        "    arrowprops=dict(arrowstyle='->',\n",
        "                    linewidth=2,\n",
        "                    shrinkA=0, shrinkB=0)\n",
        "    ax.annotate('', v1, v0, arrowprops=arrowprops)\n",
        "\n",
        "# plot data\n",
        "plt.scatter(X[:, 0], X[:, 1], alpha=0.2)\n",
        "for length, vector in zip(pca.explained_variance_, pca.components_):\n",
        "    v = vector * 3 * np.sqrt(length)\n",
        "    draw_vector(pca.mean_, pca.mean_ + v)\n",
        "plt.axis('equal');"
      ],
      "metadata": {
        "id": "wgx530pKoqGR"
      },
      "execution_count": null,
      "outputs": []
    },
    {
      "cell_type": "markdown",
      "source": [
        "These vectors represent the *principal axes* of the data, and the length of the vector is an indication of how \"important\" that axis is in describing the distribution of the data—more precisely, it is a measure of the variance of the data when projected onto that axis.\n",
        "The projection of each data point onto the principal axes are the \"principal components\" of the data.\n",
        "\n",
        "This transformation from data axes to principal axes is an *affine transformation*, which basically means it is composed of a translation, rotation, and uniform scaling.\n",
        "\n",
        "While this algorithm to find principal components may seem like just a mathematical curiosity, it turns out to have very far-reaching applications in the world of machine learning and data exploration.\n",
        "\n",
        "---\n",
        "### PCA as dimensionality reduction\n",
        "\n",
        "Using PCA for dimensionality reduction involves zeroing out one or more of the smallest principal components, resulting in a lower-dimensional projection of the data that preserves the maximal data variance.\n",
        "\n",
        "Q4. Use the previous example to obtain a reduced version of the same dataset. "
      ],
      "metadata": {
        "id": "d4C2LEBZpMLj"
      }
    },
    {
      "cell_type": "code",
      "source": [
        ""
      ],
      "metadata": {
        "id": "Sq02HmaJpLCZ"
      },
      "execution_count": null,
      "outputs": []
    },
    {
      "cell_type": "markdown",
      "source": [
        "Q5. Plot the original and reduced data set to assess how much information you lost. Note that you will have to project or <b> lift </b> the data from the reduced-dimensional representation back to the full dimensional one."
      ],
      "metadata": {
        "id": "M2Q6MSdNzq4F"
      }
    },
    {
      "cell_type": "code",
      "source": [
        ""
      ],
      "metadata": {
        "id": "Gu9GgM-hzieK"
      },
      "execution_count": null,
      "outputs": []
    },
    {
      "cell_type": "markdown",
      "source": [
        "---\n",
        "### PCA for visualization: Hand-written digits\n",
        "\n",
        "The usefulness of the dimensionality reduction may not be entirely apparent in only two dimensions, but becomes much more clear when looking at high-dimensional data.\n",
        "To see this, let's take a quick look at the application of PCA to the digits data"
      ],
      "metadata": {
        "id": "0HrvVG-Q0vpt"
      }
    },
    {
      "cell_type": "code",
      "source": [
        "# load the digit data\n",
        "from sklearn.datasets import load_digits\n",
        "digits = load_digits()\n",
        "digits.data.shape"
      ],
      "metadata": {
        "colab": {
          "base_uri": "https://localhost:8080/"
        },
        "id": "3IWZqm6jzlGU",
        "outputId": "39752032-1bf4-426d-b54b-70707af45feb"
      },
      "execution_count": null,
      "outputs": [
        {
          "output_type": "execute_result",
          "data": {
            "text/plain": [
              "(1797, 64)"
            ]
          },
          "metadata": {},
          "execution_count": 32
        }
      ]
    },
    {
      "cell_type": "markdown",
      "source": [
        "Q6. Give a look at the data and understand how they are organized. Helpyourself with the plt.imshow function to plot some of the data entries."
      ],
      "metadata": {
        "id": "whCz6uYy1Mo6"
      }
    },
    {
      "cell_type": "code",
      "source": [
        ""
      ],
      "metadata": {
        "id": "v8nLv3-704P5"
      },
      "execution_count": null,
      "outputs": []
    },
    {
      "cell_type": "markdown",
      "source": [
        "Q7. What is the dimensionality of these data? Use PCA to extract a 2d representation of the data set."
      ],
      "metadata": {
        "id": "VyUqX20b1w7m"
      }
    },
    {
      "cell_type": "code",
      "source": [
        ""
      ],
      "metadata": {
        "id": "LKEEqNWX1Skn"
      },
      "execution_count": null,
      "outputs": []
    },
    {
      "cell_type": "markdown",
      "source": [
        "Q8. Adapt the code below to plot the 2dimensional embedding of the digits data set. Discuss the quality of the embedding. An important step is always to check whether the data you got make visual/intuitive sense, and whether they are what you would expect or if instead they are very surprising. "
      ],
      "metadata": {
        "id": "yVcY7dBK3RiW"
      }
    },
    {
      "cell_type": "code",
      "source": [
        "plt.figure(figsize=(9, 8))\n",
        "plt.scatter(,\n",
        "            c=digits.target, edgecolor='none', alpha=0.5,\n",
        "            cmap=plt.cm.get_cmap('nipy_spectral', 10))\n",
        "plt.xlabel('component 1')\n",
        "plt.ylabel('component 2')\n",
        "plt.colorbar();"
      ],
      "metadata": {
        "id": "MFpHKgfF130-"
      },
      "execution_count": null,
      "outputs": []
    },
    {
      "cell_type": "markdown",
      "source": [
        "### Choosing the number of components\n",
        "\n",
        "A vital part of using PCA in practice is the ability to estimate how many components are needed to describe the data.\n",
        "This can be determined by looking at the cumulative *explained variance ratio* as a function of the number of components.\n",
        "\n",
        "Q8. Plot the cumulative explained variance ratio as a function of the components you keep. Do you think that keeping 2 was a good choice? "
      ],
      "metadata": {
        "id": "88N2HgAb4JQ_"
      }
    },
    {
      "cell_type": "code",
      "source": [
        "pca = PCA().fit(digits.data)\n"
      ],
      "metadata": {
        "id": "c3RY-J8m1_EA"
      },
      "execution_count": null,
      "outputs": []
    },
    {
      "cell_type": "markdown",
      "source": [
        "---\n",
        "## PCA as Noise Filtering\n",
        "\n",
        "PCA can also be used as a filtering approach for noisy data.\n",
        "The idea is this: any components with variance much larger than the effect of the noise should be relatively unaffected by the noise.\n",
        "So if you reconstruct the data using just the largest subset of principal components, you should be preferentially keeping the signal and throwing out the noise.\n",
        "\n",
        "Let's see how this looks with the digits data.\n",
        "First we will plot several of the input noise-free data.\n",
        "\n",
        "Q9. Insert the data in the plotting function below."
      ],
      "metadata": {
        "id": "B_gtOK7v4kL2"
      }
    },
    {
      "cell_type": "code",
      "source": [
        "def plot_digits(data):\n",
        "    fig, axes = plt.subplots(4, 10, figsize=(10, 4),\n",
        "                             subplot_kw={'xticks':[], 'yticks':[]},\n",
        "                             gridspec_kw=dict(hspace=0.1, wspace=0.1))\n",
        "    for i, ax in enumerate(axes.flat):\n",
        "        ax.imshow(,\n",
        "                  cmap='binary', interpolation='nearest',\n",
        "                  clim=(0, 16))\n",
        "plot_digits(digits.data)"
      ],
      "metadata": {
        "id": "HODnZ3Y84oc0"
      },
      "execution_count": null,
      "outputs": []
    },
    {
      "cell_type": "code",
      "source": [
        "#np.random.seed(42)\n",
        "noisy = np.random.normal(digits.data, 4)\n",
        "plot_digits(noisy)"
      ],
      "metadata": {
        "id": "g-w3tCGj4sC2"
      },
      "execution_count": null,
      "outputs": []
    },
    {
      "cell_type": "markdown",
      "source": [
        "Q10. Train PCA on the noisy data set, and keep 50% of the total variance. How many component are necessary for this?"
      ],
      "metadata": {
        "id": "D0tPCKBO5IrS"
      }
    },
    {
      "cell_type": "code",
      "source": [
        ""
      ],
      "metadata": {
        "colab": {
          "base_uri": "https://localhost:8080/"
        },
        "id": "RF8k0sM04x9l",
        "outputId": "f4b6746e-063d-47d8-e042-610413ee278b"
      },
      "execution_count": null,
      "outputs": [
        {
          "output_type": "execute_result",
          "data": {
            "text/plain": [
              "12"
            ]
          },
          "metadata": {},
          "execution_count": 56
        }
      ]
    },
    {
      "cell_type": "markdown",
      "source": [
        "The idea is that by reproducing only the bulk of the variance, we will filter out unenecessary noice from the data. To do this, you must project the original data into the low-dimensional embedding, and then lift them back.\n",
        "\n",
        "Q11. Use PCA to remove the noise from the noisy digit data set we just created."
      ],
      "metadata": {
        "id": "v5JWbDRT5X-Z"
      }
    },
    {
      "cell_type": "code",
      "source": [
        ""
      ],
      "metadata": {
        "id": "zgmWl_OA5SHO"
      },
      "execution_count": null,
      "outputs": []
    },
    {
      "cell_type": "markdown",
      "source": [
        "---\n",
        "## Introducing the Swiss Roll\n",
        "\n",
        "Using the code below, generate the next data structure on which to work, which is known as the <b> swiss roll </b>."
      ],
      "metadata": {
        "id": "L5zhKpvd7Ty2"
      }
    },
    {
      "cell_type": "code",
      "source": [
        "def swiss_roll_2d( n_sample=1000, noise=0.1 ):\n",
        "  from numpy.random import normal\n",
        "  theta = np.linspace(0, 3 * np.pi, n_sample)\n",
        "  R = np.linspace(1, 5, n_sample)\n",
        "  X = R * np.cos(theta) + normal(scale=noise, size=n_sample)\n",
        "  Y = R * np.sin(theta) + normal(scale=noise, size=n_sample)\n",
        "  return np.hstack((X.reshape(-1,1), Y.reshape(-1,1)))"
      ],
      "metadata": {
        "id": "-UsS5vOu6H4b"
      },
      "execution_count": null,
      "outputs": []
    },
    {
      "cell_type": "markdown",
      "source": [
        "Q11 How are these data organized? Plot them. What does the <b> noise </b> parameter control?"
      ],
      "metadata": {
        "id": "beImpk1U7ciA"
      }
    },
    {
      "cell_type": "code",
      "source": [
        ""
      ],
      "metadata": {
        "id": "uYU1025U7b_X"
      },
      "execution_count": null,
      "outputs": []
    },
    {
      "cell_type": "markdown",
      "source": [
        "Q12. What is the intrinsic dimensionality of these data? Try to use the sklearn PCA to perfom dimensionality reduction. Hint: color the original 2d swiss role data according to the 1d PCA variable you discovered. How many PCA components do you need to explain the variance contained in the data set?"
      ],
      "metadata": {
        "id": "ezkNQKwf7n_X"
      }
    },
    {
      "cell_type": "code",
      "source": [
        ""
      ],
      "metadata": {
        "id": "PWDeRQtl7jBN"
      },
      "execution_count": null,
      "outputs": []
    },
    {
      "cell_type": "code",
      "source": [
        ""
      ],
      "metadata": {
        "id": "Dt-Ksn0M7smt"
      },
      "execution_count": null,
      "outputs": []
    },
    {
      "cell_type": "code",
      "source": [
        ""
      ],
      "metadata": {
        "id": "54eQJxYY7uTT"
      },
      "execution_count": null,
      "outputs": []
    },
    {
      "cell_type": "code",
      "source": [
        ""
      ],
      "metadata": {
        "id": "SeJevYLq7wgF"
      },
      "execution_count": null,
      "outputs": []
    },
    {
      "cell_type": "markdown",
      "source": [
        "Q13. Was your dimensionality reduction succesful? Can you explain why?"
      ],
      "metadata": {
        "id": "gRRusPMy75hw"
      }
    },
    {
      "cell_type": "markdown",
      "source": [
        "This notebook is based on https://colab.research.google.com/github/jakevdp/PythonDataScienceHandbook/blob/master/notebooks/05.09-Principal-Component-Analysis.ipynb#scrollTo=tn_wtxGXgGVY"
      ],
      "metadata": {
        "id": "9bW6wtgF79dA"
      }
    },
    {
      "cell_type": "code",
      "source": [
        ""
      ],
      "metadata": {
        "id": "aLPU306H7ySi"
      },
      "execution_count": null,
      "outputs": []
    }
  ]
}