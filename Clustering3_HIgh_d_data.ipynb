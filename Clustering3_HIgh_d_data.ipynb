{
  "nbformat": 4,
  "nbformat_minor": 0,
  "metadata": {
    "colab": {
      "name": "Clustering3 - HIgh_d_data.ipynb",
      "provenance": [],
      "collapsed_sections": [],
      "authorship_tag": "ABX9TyMFuGxqz1xvBwFuaA0Tvs4R",
      "include_colab_link": true
    },
    "kernelspec": {
      "name": "python3",
      "display_name": "Python 3"
    },
    "language_info": {
      "name": "python"
    }
  },
  "cells": [
    {
      "cell_type": "markdown",
      "metadata": {
        "id": "view-in-github",
        "colab_type": "text"
      },
      "source": [
        "<a href=\"https://colab.research.google.com/github/robcovino/MSDAP_notebooks/blob/main/Clustering3_HIgh_d_data.ipynb\" target=\"_parent\"><img src=\"https://colab.research.google.com/assets/colab-badge.svg\" alt=\"Open In Colab\"/></a>"
      ]
    },
    {
      "cell_type": "markdown",
      "source": [
        "# Why is clustering of high dimensional data VERY hard\n",
        "\n",
        "In this notebook we will study this little funny interesting problem. \n",
        "\n",
        "Q1. Given a line of unitary length, draw 2000 points uniformly on the line. Then calculate the ratio of the points that located 10% from the boundary of the line, and the \"interior\" points.\n",
        "\n",
        "Q2. Repeat the same for a square. Draw 2000 points uniformly distributed and calculate the ratio between interior and exterior points."
      ],
      "metadata": {
        "id": "pJII9rEzXZ38"
      }
    },
    {
      "cell_type": "code",
      "source": [
        "import numpy as np\n",
        "import matplotlib.pyplot as plt\n",
        "%matplotlib inline"
      ],
      "metadata": {
        "id": "o6UTa7cXYFYp"
      },
      "execution_count": null,
      "outputs": []
    },
    {
      "cell_type": "code",
      "source": [
        ""
      ],
      "metadata": {
        "id": "JnGrD6wlYUPc"
      },
      "execution_count": null,
      "outputs": []
    },
    {
      "cell_type": "markdown",
      "source": [
        "Q3. What is your observation? Can you generalize your result for points uniformly distributed in a hypercube of dimension D?\n"
      ],
      "metadata": {
        "id": "JuOamv3_YqzX"
      }
    },
    {
      "cell_type": "code",
      "source": [
        ""
      ],
      "metadata": {
        "id": "RL-gUm_qYfOe"
      },
      "execution_count": null,
      "outputs": []
    },
    {
      "cell_type": "markdown",
      "source": [
        "Q4. Calculate the ratio of exterior versus all points as a function of D."
      ],
      "metadata": {
        "id": "eraingaxY37c"
      }
    },
    {
      "cell_type": "code",
      "source": [
        ""
      ],
      "metadata": {
        "id": "dwvpphvQY2eq"
      },
      "execution_count": null,
      "outputs": []
    },
    {
      "cell_type": "code",
      "source": [
        ""
      ],
      "metadata": {
        "id": "qzkY1uznr84g"
      },
      "execution_count": null,
      "outputs": []
    },
    {
      "cell_type": "markdown",
      "source": [
        "Q5. Finally, calculate the ratio between average parwise distance and max pairwise distance between all points as a function of D. Suggestion: Look what scipy.spatial has to offer. "
      ],
      "metadata": {
        "id": "M_ruKfgoZBg4"
      }
    },
    {
      "cell_type": "code",
      "source": [
        ""
      ],
      "metadata": {
        "id": "_MU12nOhY2tS"
      },
      "execution_count": null,
      "outputs": []
    },
    {
      "cell_type": "code",
      "source": [
        ""
      ],
      "metadata": {
        "id": "psc5osp3sKWt"
      },
      "execution_count": null,
      "outputs": []
    },
    {
      "cell_type": "code",
      "source": [
        ""
      ],
      "metadata": {
        "id": "B7ohEnEtsMJp"
      },
      "execution_count": null,
      "outputs": []
    },
    {
      "cell_type": "markdown",
      "source": [
        "5. (Optional) Repeat the same analysis for a circle, a sphere, and N-dimensional hyperspheres. If you are good at analytical math, you could also calculate the same analytically. "
      ],
      "metadata": {
        "id": "ZjxypT-EuIvS"
      }
    },
    {
      "cell_type": "code",
      "source": [
        ""
      ],
      "metadata": {
        "id": "Je_nAAOotAGk"
      },
      "execution_count": null,
      "outputs": []
    }
  ]
}