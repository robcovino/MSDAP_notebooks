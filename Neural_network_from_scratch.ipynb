{
  "nbformat": 4,
  "nbformat_minor": 0,
  "metadata": {
    "colab": {
      "name": "Neural_network_from_scratch.ipynb",
      "provenance": [],
      "collapsed_sections": [],
      "authorship_tag": "ABX9TyPPaS38vvha6iynZMFW7Dyj",
      "include_colab_link": true
    },
    "kernelspec": {
      "name": "python3",
      "display_name": "Python 3"
    },
    "language_info": {
      "name": "python"
    }
  },
  "cells": [
    {
      "cell_type": "markdown",
      "metadata": {
        "id": "view-in-github",
        "colab_type": "text"
      },
      "source": [
        "<a href=\"https://colab.research.google.com/github/robcovino/MSDAP_notebooks/blob/main/Neural_network_from_scratch.ipynb\" target=\"_parent\"><img src=\"https://colab.research.google.com/assets/colab-badge.svg\" alt=\"Open In Colab\"/></a>"
      ]
    },
    {
      "cell_type": "markdown",
      "source": [
        "---\n",
        "# Writing a neural network from scratch in python\n",
        "\n",
        "From https://victorzhou.com/blog/intro-to-neural-networks/"
      ],
      "metadata": {
        "id": "F_zyj4lSOjCs"
      }
    },
    {
      "cell_type": "code",
      "source": [
        "import numpy as np\n",
        "import matplotlib.pyplot as plt"
      ],
      "metadata": {
        "id": "B8E-M-ATfhS4"
      },
      "execution_count": null,
      "outputs": []
    },
    {
      "cell_type": "code",
      "source": [
        "def sigmoid(x):\n",
        "  return \n",
        "\n",
        "\n",
        "\n",
        "class Neuron:\n",
        "  def __init__(self, weights, bias):\n",
        "    self.weights = weights\n",
        "    self.bias = bias\n",
        "\n",
        "  def feedforward(self, inputs):\n"
      ],
      "metadata": {
        "id": "nBbUSBMSgRFu"
      },
      "execution_count": null,
      "outputs": []
    },
    {
      "cell_type": "code",
      "source": [
        "# instance and initialize the neuron\n"
      ],
      "metadata": {
        "id": "hGY1xMTy3mpQ"
      },
      "execution_count": null,
      "outputs": []
    },
    {
      "cell_type": "code",
      "source": [
        "# evaluate the neuron on an input\n"
      ],
      "metadata": {
        "colab": {
          "base_uri": "https://localhost:8080/"
        },
        "id": "lbUVaHWP5Akk",
        "outputId": "55c314db-042c-455c-a49b-173448f80e4b"
      },
      "execution_count": null,
      "outputs": [
        {
          "output_type": "execute_result",
          "data": {
            "text/plain": [
              "0.9933071490757153"
            ]
          },
          "metadata": {},
          "execution_count": 4
        }
      ]
    },
    {
      "cell_type": "code",
      "source": [
        "class NeuralNetwork:\n",
        "  '''\n",
        "  A neural network with:\n",
        "    - 2 inputs\n",
        "    - a hidden layer with 2 neurons (h1, h2)\n",
        "    - an output layer with 1 neuron (o1)\n",
        "  Each neuron has the same weights and bias:\n",
        "    - w = [0, 1]\n",
        "    - b = 0\n",
        "  '''\n",
        "  def __init__(self):\n",
        "    weights = np.array([0, 1])\n",
        "    bias = 0\n",
        "    # Define architecture\n",
        "    # Use the Neuron class \n",
        "    \n",
        "\n",
        "  def feedforward(self, x):\n",
        "    # Define connectivity\n",
        "\n",
        "\n",
        "    return "
      ],
      "metadata": {
        "id": "oFMxDJrw5CpJ"
      },
      "execution_count": null,
      "outputs": []
    },
    {
      "cell_type": "code",
      "source": [
        "nn = NeuralNetwork()\n",
        "\n"
      ],
      "metadata": {
        "colab": {
          "base_uri": "https://localhost:8080/"
        },
        "id": "TAupR0M7-p0A",
        "outputId": "b6a3d652-c0a8-41ac-e0e8-94d7b76756df"
      },
      "execution_count": null,
      "outputs": [
        {
          "output_type": "execute_result",
          "data": {
            "text/plain": [
              "0.7216325609518421"
            ]
          },
          "metadata": {},
          "execution_count": 6
        }
      ]
    },
    {
      "cell_type": "code",
      "source": [
        "def mse_loss(y_true, y_pred):\n",
        " "
      ],
      "metadata": {
        "id": "JUWHBFyh_LYz"
      },
      "execution_count": null,
      "outputs": []
    },
    {
      "cell_type": "code",
      "source": [
        "# Define dataset\n",
        "# This is the training data, that has to come from somewhere\n",
        "data = np.array([\n",
        "  [-2, -1],  # Alice\n",
        "  [25, 6],   # Bob\n",
        "  [17, 4],   # Charlie\n",
        "  [-15, -6], # Diana\n",
        "])\n",
        "all_y_trues = np.array([\n",
        "  1, # Alice\n",
        "  0, # Bob\n",
        "  0, # Charlie\n",
        "  1, # Diana\n",
        "])"
      ],
      "metadata": {
        "id": "KoX00sqrNn-L"
      },
      "execution_count": null,
      "outputs": []
    },
    {
      "cell_type": "markdown",
      "source": [
        "Q1. Train your network on the training data, and plot the value of the loss as a function of the training."
      ],
      "metadata": {
        "id": "c8IGozrqRoA3"
      }
    },
    {
      "cell_type": "code",
      "source": [
        ""
      ],
      "metadata": {
        "id": "6Oy2wJ7WRkjj"
      },
      "execution_count": null,
      "outputs": []
    },
    {
      "cell_type": "code",
      "source": [
        ""
      ],
      "metadata": {
        "id": "Am4XNpoVNrA-"
      },
      "execution_count": null,
      "outputs": []
    },
    {
      "cell_type": "markdown",
      "source": [
        "Q2. Predict the gender of two new data points."
      ],
      "metadata": {
        "id": "JR7Omfu0SBQ5"
      }
    },
    {
      "cell_type": "code",
      "source": [
        "# Once you have trained the network, make some predictions\n",
        "emily = np.array([-7, -3]) # 128 pounds, 63 inches\n",
        "frank = np.array([20, 2])  # 155 pounds, 68 inches\n"
      ],
      "metadata": {
        "id": "iam_72kGQdE6"
      },
      "execution_count": null,
      "outputs": []
    },
    {
      "cell_type": "markdown",
      "source": [
        "Q3. Use the additional data below as test set and use early stopping to avoid overfitting."
      ],
      "metadata": {
        "id": "7HvzpVlbuf_3"
      }
    },
    {
      "cell_type": "code",
      "source": [
        "# the test set contains data that should NOT be used to train\n",
        "data_test = np.array([\n",
        "  [22, 4],   # Edward\n",
        "  [-12, -3],   # Francine \n",
        "])\n",
        "all_y_trues_test = np.array([\n",
        "  0, # Edward\n",
        "  1, # Francine\n",
        "])"
      ],
      "metadata": {
        "id": "ZhzjP14YRTFS"
      },
      "execution_count": null,
      "outputs": []
    }
  ]
}