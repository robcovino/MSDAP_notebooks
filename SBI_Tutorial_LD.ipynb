{
  "cells": [
    {
      "cell_type": "markdown",
      "metadata": {
        "id": "view-in-github",
        "colab_type": "text"
      },
      "source": [
        "<a href=\"https://colab.research.google.com/github/robcovino/MSDAP_notebooks/blob/main/SBI_Tutorial_LD.ipynb\" target=\"_parent\"><img src=\"https://colab.research.google.com/assets/colab-badge.svg\" alt=\"Open In Colab\"/></a>"
      ]
    },
    {
      "cell_type": "markdown",
      "id": "e6995130-d1eb-4098-868c-95d3a4c76f58",
      "metadata": {
        "id": "e6995130-d1eb-4098-868c-95d3a4c76f58"
      },
      "source": [
        "# Libraries we need to import  "
      ]
    },
    {
      "cell_type": "code",
      "execution_count": null,
      "id": "c7b1d9b5-5bf6-4c96-a247-18ec6b2952d7",
      "metadata": {
        "id": "c7b1d9b5-5bf6-4c96-a247-18ec6b2952d7"
      },
      "outputs": [],
      "source": [
        "import numpy as np\n",
        "import matplotlib.pyplot as plt\n",
        "import scipy as scp\n",
        "import torch\n",
        "\n",
        "pip install sbi\n",
        "\n",
        "from sbi import utils as utils\n",
        "from sbi import analysis as analysis\n",
        "from sbi.inference.base import infer\n",
        "from sbi.inference import SNPE, prepare_for_sbi, simulate_for_sbi"
      ]
    },
    {
      "cell_type": "code",
      "source": [
        ""
      ],
      "metadata": {
        "id": "K4-wLTmlskIa"
      },
      "id": "K4-wLTmlskIa",
      "execution_count": null,
      "outputs": []
    },
    {
      "cell_type": "markdown",
      "id": "1c78c0aa-49a7-4eec-947a-40a0a8c90d76",
      "metadata": {
        "id": "1c78c0aa-49a7-4eec-947a-40a0a8c90d76"
      },
      "source": [
        "# Defining our simulator"
      ]
    },
    {
      "cell_type": "markdown",
      "id": "d38dd3b7-314d-4b57-b568-59363ac3d544",
      "metadata": {
        "id": "d38dd3b7-314d-4b57-b568-59363ac3d544"
      },
      "source": [
        "First, we define our model as the python function `gaussian_model()` to evaluate it.  \n",
        "In this case our model will be :  \n",
        ">$x = 1 + \\theta + R_x(t)$  \n",
        "\n",
        "$x$ is our observation and $\\theta$ is the parameters. For multiple parameters, the same formula will be applied for each parameter.   \n",
        "Here $R_x(t)$ is Gaussian noise with zero mean and 1/10 variance."
      ]
    },
    {
      "cell_type": "code",
      "execution_count": null,
      "id": "be024991-ef3f-43ac-8354-56b398d31a84",
      "metadata": {
        "id": "be024991-ef3f-43ac-8354-56b398d31a84"
      },
      "outputs": [],
      "source": [
        "def gaussian_model(theta: torch.Tensor):\n",
        "     return 1.0 + theta + torch.randn(theta.shape) * 0.1"
      ]
    },
    {
      "cell_type": "markdown",
      "id": "f29d2b5b-336c-4797-90e9-c8273c271a52",
      "metadata": {
        "id": "f29d2b5b-336c-4797-90e9-c8273c271a52"
      },
      "source": [
        "# Defining our prior"
      ]
    },
    {
      "cell_type": "markdown",
      "id": "b9950b35-d2d5-4018-a723-2e0b6222a8a2",
      "metadata": {
        "id": "b9950b35-d2d5-4018-a723-2e0b6222a8a2"
      },
      "source": [
        "Here we define our prior for the inference.  \n",
        "We will choose a box prior, where each parameter is uncorrelated to the other $p(\\theta_1, \\theta_2) = p(\\theta_1)p(\\theta_2)$.  \n",
        "The box-shaped prior is generated in python with the class `utils.BoxUniform`."
      ]
    },
    {
      "cell_type": "code",
      "execution_count": null,
      "id": "2c77f2e6-fc4b-446e-935f-9aecbb0dda9c",
      "metadata": {
        "id": "2c77f2e6-fc4b-446e-935f-9aecbb0dda9c"
      },
      "outputs": [],
      "source": [
        "a_limits = (-2, 2) # Limits of parameter a (lower limit, upper limit)\n",
        "b_limits = (-2, 2) # Limits of parameter b (lower limit, upper limit)\n",
        "\n",
        "prior = utils.BoxUniform(low=torch.tensor([a_limits[0], b_limits[0]]), high=torch.tensor([a_limits[1], b_limits[1]]))"
      ]
    },
    {
      "cell_type": "markdown",
      "id": "e8085d62-adc1-4031-9cd6-cc45df8ffa3d",
      "metadata": {
        "id": "e8085d62-adc1-4031-9cd6-cc45df8ffa3d"
      },
      "source": [
        "To make everything compatible with the sbi library we will use a function that wraps our python model to fit the sbi library standard.  \n",
        "Therefore we need to call the `prepare_for_sbi()` function with our model and the prior."
      ]
    },
    {
      "cell_type": "code",
      "execution_count": null,
      "id": "fb5986c2-62bd-439e-ac94-0c61b8a2967b",
      "metadata": {
        "id": "fb5986c2-62bd-439e-ac94-0c61b8a2967b"
      },
      "outputs": [],
      "source": [
        "sbi_model, prior = prepare_for_sbi(gaussian_model, prior)"
      ]
    },
    {
      "cell_type": "markdown",
      "id": "1aa864b0-7075-480f-8552-0fe2d785558d",
      "metadata": {
        "id": "1aa864b0-7075-480f-8552-0fe2d785558d"
      },
      "source": [
        "# Generating a synthetic observation  \n",
        "In the next step, we generate a synthetic observation for which we want to estimate the parameters.  \n",
        "The variable `true_parameters` contains the parameters we use to simulate the synthetic observation.  \n",
        "With the `gaussian_model()` function we then simulate our observation"
      ]
    },
    {
      "cell_type": "code",
      "execution_count": null,
      "id": "872e6eb0-b2e4-4e72-a06b-02d21a8dbedc",
      "metadata": {
        "id": "872e6eb0-b2e4-4e72-a06b-02d21a8dbedc"
      },
      "outputs": [],
      "source": [
        "true_parameters = torch.tensor([1, 1]) # [first parameter, second parameter]\n",
        "observation = gaussian_model(true_parameters)"
      ]
    },
    {
      "cell_type": "code",
      "execution_count": null,
      "id": "3a99468b-65a1-435f-9d43-cee26a96a159",
      "metadata": {
        "id": "3a99468b-65a1-435f-9d43-cee26a96a159",
        "outputId": "180e5b57-085e-45fd-e04a-f76bc522a64a"
      },
      "outputs": [
        {
          "name": "stdout",
          "output_type": "stream",
          "text": [
            "The observation we simulated :  tensor([1.8555, 2.0894])\n"
          ]
        }
      ],
      "source": [
        "print('The observation we simulated : ', observation)"
      ]
    },
    {
      "cell_type": "markdown",
      "id": "f553f4ec-a9b4-4925-b21a-224ed3146cde",
      "metadata": {
        "id": "f553f4ec-a9b4-4925-b21a-224ed3146cde"
      },
      "source": [
        "# ABC"
      ]
    },
    {
      "cell_type": "markdown",
      "id": "817f4d42-014c-455d-97ed-f2ae1e9daa1f",
      "metadata": {
        "id": "817f4d42-014c-455d-97ed-f2ae1e9daa1f"
      },
      "source": [
        "Draw samples from $p(\\theta)$.\n",
        "Samples are drawn with the python method `.sample()`. The first argument defines how many samples we want to draw. "
      ]
    },
    {
      "cell_type": "code",
      "execution_count": null,
      "id": "ad124ecf-b1f5-4b7a-9753-7f0ece386dc8",
      "metadata": {
        "id": "ad124ecf-b1f5-4b7a-9753-7f0ece386dc8"
      },
      "outputs": [],
      "source": [
        "N_samples = 100000  # Number of samples drawn from the prior\n",
        "prior_samples = prior.sample((N_samples,))"
      ]
    },
    {
      "cell_type": "markdown",
      "id": "2e5559cb-18c1-4248-92b9-e3b430337014",
      "metadata": {
        "id": "2e5559cb-18c1-4248-92b9-e3b430337014"
      },
      "source": [
        "Simulate corresponding observations $x_i \\sim p(x_i|\\theta)$  "
      ]
    },
    {
      "cell_type": "code",
      "execution_count": null,
      "id": "66c86f1d-4e3c-4f8b-af55-2a0504215f8a",
      "metadata": {
        "id": "66c86f1d-4e3c-4f8b-af55-2a0504215f8a"
      },
      "outputs": [],
      "source": [
        "simulation_results = sbi_model(prior_samples)"
      ]
    },
    {
      "cell_type": "markdown",
      "id": "bcf79ec0-f25d-415b-83d7-4af877de0a3f",
      "metadata": {
        "id": "bcf79ec0-f25d-415b-83d7-4af877de0a3f"
      },
      "source": [
        "In the next step we want to reject all prior samples for which $d(x_0, x) > \\epsilon$ holds on.  \n",
        "For that we have to choose a distance function $d(x_0, x)$ and a threshold value $\\epsilon$.\n",
        "We choose $d(x_0, x) = (x - x_0)^2$.  \n",
        "This is defined by `torch.sum((simulation_results - observation)**2, dim=1)`."
      ]
    },
    {
      "cell_type": "code",
      "execution_count": null,
      "id": "67c60dcb-ff6a-4029-818b-65e3e9489535",
      "metadata": {
        "id": "67c60dcb-ff6a-4029-818b-65e3e9489535"
      },
      "outputs": [],
      "source": [
        "epsilon = 0.2  # Treshold value epsilon for ABC"
      ]
    },
    {
      "cell_type": "code",
      "execution_count": null,
      "id": "4781e49b-e259-48b8-921d-b91d8874c630",
      "metadata": {
        "id": "4781e49b-e259-48b8-921d-b91d8874c630"
      },
      "outputs": [],
      "source": [
        "idx = torch.sum((simulation_results - observation)**2, dim=1) < epsilon"
      ]
    },
    {
      "cell_type": "code",
      "execution_count": null,
      "id": "90e19564-5dca-4b96-b802-a52e1aa59f3f",
      "metadata": {
        "id": "90e19564-5dca-4b96-b802-a52e1aa59f3f",
        "outputId": "bd839cb0-0756-437b-ad58-8a4454ddbe51"
      },
      "outputs": [
        {
          "name": "stdout",
          "output_type": "stream",
          "text": [
            "The number of accepted samples :  3.87 %\n"
          ]
        }
      ],
      "source": [
        "print('The number of accepted samples : ',  format(float(sum(idx)/N_samples * 100), '.2f'), '%')"
      ]
    },
    {
      "cell_type": "markdown",
      "id": "8091e1b4-f09b-43be-b448-aa13d379599a",
      "metadata": {
        "id": "8091e1b4-f09b-43be-b448-aa13d379599a"
      },
      "source": [
        "Now we only have to select our prior samples for the simulation which were accepted.  \n",
        "After that, we can plot our posterior samples with the function provided by the sbi package."
      ]
    },
    {
      "cell_type": "code",
      "execution_count": null,
      "id": "a6df374d-8694-4fce-b4c9-3f2ba31c5114",
      "metadata": {
        "id": "a6df374d-8694-4fce-b4c9-3f2ba31c5114"
      },
      "outputs": [],
      "source": [
        "posterior_samples = prior_samples[idx]"
      ]
    },
    {
      "cell_type": "code",
      "execution_count": null,
      "id": "b803b808-cb7e-491d-a81f-70e531164b46",
      "metadata": {
        "id": "b803b808-cb7e-491d-a81f-70e531164b46",
        "outputId": "1ab92fc9-aca6-4d49-b381-a4fed0d2dca3"
      },
      "outputs": [
        {
          "data": {
            "image/png": "[encoded data removed]",
            "text/plain": [
              "<Figure size 504x504 with 4 Axes>"
            ]
          },
          "metadata": {
            "needs_background": "light"
          },
          "output_type": "display_data"
        }
      ],
      "source": [
        "_ = analysis.pairplot(posterior_samples, limits=[a_limits, b_limits], figsize=(7,7), \n",
        "                      points=true_parameters, points_offdiag={'markersize': 6},\n",
        "                      points_colors='r', labels=[r'\\theta_1', r'\\theta_2'])"
      ]
    },
    {
      "cell_type": "markdown",
      "id": "182ce275-d6e8-431a-915e-f2e28d2e8c23",
      "metadata": {
        "id": "182ce275-d6e8-431a-915e-f2e28d2e8c23"
      },
      "source": [
        "In the figure, we can see three different plots.  \n",
        "The 2d histogramm in the upper left corner represents the full posterior.  \n",
        ">$p(\\theta_1, \\theta_2|x_0)$  \n",
        "\n",
        "The 1d histogramms can be interpreted as the marginals of the posterior.  \n",
        ">$p(\\theta_1|x_0) = \\int_{\\theta_2} p(\\theta_1, \\theta_2|x_0)d\\theta_2$  \n",
        ">$p(\\theta_2|x_0) = \\int_{\\theta_1} p(\\theta_1, \\theta_2|x_0)d\\theta_1$"
      ]
    },
    {
      "cell_type": "markdown",
      "id": "7581e24e-413a-4817-a012-254425d0c109",
      "metadata": {
        "id": "7581e24e-413a-4817-a012-254425d0c109"
      },
      "source": [
        "# Neural Posterior Estimation"
      ]
    },
    {
      "cell_type": "markdown",
      "id": "b23b00ea-91fd-4983-a122-da03a43e12bc",
      "metadata": {
        "id": "b23b00ea-91fd-4983-a122-da03a43e12bc"
      },
      "source": [
        "In order to perform the likelihood-free inference by fitting the posterior distribution  \n",
        "wee need just one extra line of code which will do everything for us.  \n",
        "The method `infer` from the sbi framework, will run the simulations for us, set up and train the desniity estimator.  \n",
        "Depending on the cpu your computer has this can take a couple of minutes."
      ]
    },
    {
      "cell_type": "code",
      "execution_count": null,
      "id": "a5a21509-1861-4166-9cc9-b33994a48147",
      "metadata": {
        "id": "a5a21509-1861-4166-9cc9-b33994a48147"
      },
      "outputs": [],
      "source": [
        "N_simulations = 1000  # Number of simulations used for Neural posterior estimation"
      ]
    },
    {
      "cell_type": "code",
      "execution_count": null,
      "id": "93a309ac-8835-4306-ae52-41e315127cfc",
      "metadata": {
        "scrolled": true,
        "colab": {
          "referenced_widgets": [
            "d5480394646144458e029749aea45e6a"
          ]
        },
        "id": "93a309ac-8835-4306-ae52-41e315127cfc",
        "outputId": "d779aa81-1580-4767-aba1-584c0f91397c"
      },
      "outputs": [
        {
          "data": {
            "application/vnd.jupyter.widget-view+json": {
              "model_id": "d5480394646144458e029749aea45e6a",
              "version_major": 2,
              "version_minor": 0
            },
            "text/plain": [
              "Running 1000 simulations.:   0%|          | 0/1000 [00:00<?, ?it/s]"
            ]
          },
          "metadata": {},
          "output_type": "display_data"
        },
        {
          "name": "stdout",
          "output_type": "stream",
          "text": [
            "Neural network successfully converged after 147 epochs.\n"
          ]
        }
      ],
      "source": [
        "posterior = infer(sbi_model, prior, method='SNPE', num_simulations=N_simulations, num_workers=1)"
      ]
    },
    {
      "cell_type": "markdown",
      "id": "e4b0b587-f2c1-41b8-8c12-1d8a7b6641d9",
      "metadata": {
        "id": "e4b0b587-f2c1-41b8-8c12-1d8a7b6641d9"
      },
      "source": [
        "# Sampling the posterior for different observed data"
      ]
    },
    {
      "cell_type": "markdown",
      "id": "e66dbfa9-1758-4433-9152-bf3be6986450",
      "metadata": {
        "id": "e66dbfa9-1758-4433-9152-bf3be6986450"
      },
      "source": [
        "In the end, we just have to generate samples from our posterior distribution to plot it.  \n",
        "Therefore we use again the `.sample()` method for our posterior distribution."
      ]
    },
    {
      "cell_type": "code",
      "execution_count": null,
      "id": "6ad654bc-1bf1-4345-8583-b0342591cbd7",
      "metadata": {
        "colab": {
          "referenced_widgets": [
            "e80bf2741949458ba363905e910b0c1a"
          ]
        },
        "id": "6ad654bc-1bf1-4345-8583-b0342591cbd7",
        "outputId": "69e7ee06-208e-4bc1-f90c-a094f1562bf6"
      },
      "outputs": [
        {
          "data": {
            "application/vnd.jupyter.widget-view+json": {
              "model_id": "e80bf2741949458ba363905e910b0c1a",
              "version_major": 2,
              "version_minor": 0
            },
            "text/plain": [
              "Drawing 100000 posterior samples:   0%|          | 0/100000 [00:00<?, ?it/s]"
            ]
          },
          "metadata": {},
          "output_type": "display_data"
        },
        {
          "data": {
            "image/png": "[encoded data removed]",
            "text/plain": [
              "<Figure size 504x504 with 4 Axes>"
            ]
          },
          "metadata": {
            "needs_background": "light"
          },
          "output_type": "display_data"
        }
      ],
      "source": [
        "samples = posterior.sample((100000,), x=observation)\n",
        "_ = analysis.pairplot(samples, limits=[a_limits, b_limits], figsize=(7,7), \n",
        "                      points=true_parameters, points_offdiag={'markersize': 6},\n",
        "                      points_colors='r', labels=[r'\\theta_1', r'\\theta_2'])"
      ]
    },
    {
      "cell_type": "markdown",
      "id": "3f87cd78-fd97-415f-8df4-f9af8437f9c7",
      "metadata": {
        "id": "3f87cd78-fd97-415f-8df4-f9af8437f9c7"
      },
      "source": [
        "In the figure, we can see three different plots.  \n",
        "The 2d histogramm in the upper left corner represents the full posterior.  \n",
        ">$p(\\theta_1, \\theta_2|x_0)$  \n",
        "\n",
        "The 1d histogramms can be interpreted as the marginals of the posterior.  \n",
        ">$p(\\theta_1|x_0) = \\int_{\\theta_2} p(\\theta_1, \\theta_2|x_0)d\\theta_2$  \n",
        ">$p(\\theta_2|x_0) = \\int_{\\theta_1} p(\\theta_1, \\theta_2|x_0)d\\theta_1$"
      ]
    }
  ],
  "metadata": {
    "kernelspec": {
      "display_name": "Python 3",
      "language": "python",
      "name": "python3"
    },
    "language_info": {
      "codemirror_mode": {
        "name": "ipython",
        "version": 3
      },
      "file_extension": ".py",
      "mimetype": "text/x-python",
      "name": "python",
      "nbconvert_exporter": "python",
      "pygments_lexer": "ipython3",
      "version": "3.8.8"
    },
    "widgets": {
      "application/vnd.jupyter.widget-state+json": {}
    },
    "colab": {
      "name": "SBI_Tutorial_LD.ipynb",
      "provenance": [],
      "collapsed_sections": [],
      "include_colab_link": true
    }
  },
  "nbformat": 4,
  "nbformat_minor": 5
}