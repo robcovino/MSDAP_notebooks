{
  "nbformat": 4,
  "nbformat_minor": 0,
  "metadata": {
    "colab": {
      "name": "Clustering3 - HIgh_d_data_A.ipynb",
      "provenance": [],
      "authorship_tag": "ABX9TyNawBb9E+riIvdtoj0B0Gcj",
      "include_colab_link": true
    },
    "kernelspec": {
      "name": "python3",
      "display_name": "Python 3"
    },
    "language_info": {
      "name": "python"
    }
  },
  "cells": [
    {
      "cell_type": "markdown",
      "metadata": {
        "id": "view-in-github",
        "colab_type": "text"
      },
      "source": [
        "<a href=\"https://colab.research.google.com/github/robcovino/MSDAP_notebooks/blob/main/Clustering3_HIgh_d_data_A.ipynb\" target=\"_parent\"><img src=\"https://colab.research.google.com/assets/colab-badge.svg\" alt=\"Open In Colab\"/></a>"
      ]
    },
    {
      "cell_type": "markdown",
      "source": [
        "# Why is clustering of high dimensional data VERY hard\n",
        "\n",
        "In this notebook we will study this little funny interesting problem. \n",
        "\n",
        "1. Given a line of unitary length, draw 2000 points uniformly on the line. Then calculate the ratio of the points that located 10% from the boundary of the line, and the \"interior\" points.\n",
        "2. Repeat the same for a square. Draw 2000 points uniformly distributed and calculate the ratio between interior and exterior points."
      ],
      "metadata": {
        "id": "pJII9rEzXZ38"
      }
    },
    {
      "cell_type": "code",
      "source": [
        "import numpy as np\n",
        "import matplotlib.pyplot as plt\n",
        "%matplotlib inline"
      ],
      "metadata": {
        "id": "o6UTa7cXYFYp"
      },
      "execution_count": null,
      "outputs": []
    },
    {
      "cell_type": "code",
      "source": [
        "# draw 2000 points on a line\n",
        "from scipy.stats import uniform\n",
        "rv = uniform()\n",
        "r = uniform.rvs(size=(2000, 1))"
      ],
      "metadata": {
        "id": "JnGrD6wlYUPc"
      },
      "execution_count": null,
      "outputs": []
    },
    {
      "cell_type": "markdown",
      "source": [
        "What is your observation? Can you generalize your result for points uniformly distributed in a hypercube of dimension D?\n"
      ],
      "metadata": {
        "id": "JuOamv3_YqzX"
      }
    },
    {
      "cell_type": "code",
      "source": [
        "def point_on_the_edge( D, N ):\n",
        "    # draw 1000 points on a D-cube (D=1 line, D=2 square) of unitary edge length\n",
        "    from scipy.stats import uniform\n",
        "    rv = uniform()\n",
        "    r = uniform.rvs(size=(N, D)) - 0.5\n",
        "\n",
        "    pb = (np.abs(r) > 0.4).any(axis=1).sum() / N\n",
        "\n",
        "    return pb"
      ],
      "metadata": {
        "id": "RL-gUm_qYfOe"
      },
      "execution_count": null,
      "outputs": []
    },
    {
      "cell_type": "code",
      "source": [
        "point_on_the_edge( 4, 2000 )"
      ],
      "metadata": {
        "colab": {
          "base_uri": "https://localhost:8080/"
        },
        "id": "MCHIYvMSCYKd",
        "outputId": "63987c7c-84fb-41c5-a0f9-38a819af7ff2"
      },
      "execution_count": null,
      "outputs": [
        {
          "output_type": "execute_result",
          "data": {
            "text/plain": [
              "0.5975"
            ]
          },
          "metadata": {},
          "execution_count": 12
        }
      ]
    },
    {
      "cell_type": "markdown",
      "source": [
        "3. Calculate the ratio of exterior versus all points as a function of D."
      ],
      "metadata": {
        "id": "eraingaxY37c"
      }
    },
    {
      "cell_type": "code",
      "source": [
        "dims = np.arange(1,51)\n",
        "pbs = np.zeros(50)\n",
        "\n",
        "N = 1000\n",
        "for idx in dims:\n",
        "    pbs[idx - 1] = point_on_the_edge( idx, N )"
      ],
      "metadata": {
        "id": "dwvpphvQY2eq"
      },
      "execution_count": null,
      "outputs": []
    },
    {
      "cell_type": "code",
      "source": [
        "plt.plot(dims, pbs, 'o')\n",
        "plt.xlabel('dimensions')\n",
        "plt.ylabel('Fractions of point on the boundary')\n",
        "plt.show()"
      ],
      "metadata": {
        "colab": {
          "base_uri": "https://localhost:8080/",
          "height": 279
        },
        "id": "qzkY1uznr84g",
        "outputId": "1aae14f3-fbfb-4967-e720-33b2c7d9e0d6"
      },
      "execution_count": null,
      "outputs": [
        {
          "output_type": "display_data",
          "data": {
            "text/plain": [
              "<Figure size 432x288 with 1 Axes>"
            ],
            "image/png": "[encoded data removed]"
          },
          "metadata": {
            "needs_background": "light"
          }
        }
      ]
    },
    {
      "cell_type": "markdown",
      "source": [
        "4. Finally, calculate the ratio between average parwise distance and max pairwise distance between all points as a function of D. Suggestion: Look what scipy.spatial has to offer. "
      ],
      "metadata": {
        "id": "M_ruKfgoZBg4"
      }
    },
    {
      "cell_type": "code",
      "source": [
        "def typical_distances( D, N ):\n",
        "    # draw 1000 points on a D-cube (D=1 line, D=2 square) of unitary edge length\n",
        "    from scipy.stats import uniform\n",
        "    rv = uniform()\n",
        "    r = uniform.rvs(size=(N, D))\n",
        "    # calculate all pair-wise Euclidean distances\n",
        "    from scipy.spatial.distance import pdist\n",
        "    dist = pdist(r)\n",
        "    return np.min(dist), np.max(dist), np.mean(dist)"
      ],
      "metadata": {
        "id": "_MU12nOhY2tS"
      },
      "execution_count": null,
      "outputs": []
    },
    {
      "cell_type": "code",
      "source": [
        "K = 200\n",
        "dims = np.arange(1,K+1)\n",
        "ratio = np.zeros(K)\n",
        "\n",
        "N = 1000\n",
        "for idx in dims:\n",
        "    min_dist, max_dist, mean_dist = typical_distances( idx, N ) \n",
        "    ratio[idx - 1] = mean_dist / max_dist"
      ],
      "metadata": {
        "id": "psc5osp3sKWt"
      },
      "execution_count": null,
      "outputs": []
    },
    {
      "cell_type": "code",
      "source": [
        "plt.plot(dims, ratio, 'o')\n",
        "plt.xlabel('dimensions')\n",
        "plt.ylabel('Fractions of point on the boundary')\n",
        "plt.show()"
      ],
      "metadata": {
        "colab": {
          "base_uri": "https://localhost:8080/",
          "height": 279
        },
        "id": "B7ohEnEtsMJp",
        "outputId": "20f6c54b-028c-4d90-87ec-b2383b9c2c9c"
      },
      "execution_count": null,
      "outputs": [
        {
          "output_type": "display_data",
          "data": {
            "text/plain": [
              "<Figure size 432x288 with 1 Axes>"
            ],
            "image/png": "[encoded data removed]"
          },
          "metadata": {
            "needs_background": "light"
          }
        }
      ]
    },
    {
      "cell_type": "markdown",
      "source": [
        "5. (Optional) Repeat the same analysis for a circle, a sphere, and N-dimensional hyperspheres. If you are good at analytical math, you could also calculate the same analytically. "
      ],
      "metadata": {
        "id": "ZjxypT-EuIvS"
      }
    },
    {
      "cell_type": "code",
      "source": [
        ""
      ],
      "metadata": {
        "id": "Je_nAAOotAGk"
      },
      "execution_count": null,
      "outputs": []
    }
  ]
}