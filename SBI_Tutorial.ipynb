{
  "cells": [
    {
      "cell_type": "markdown",
      "metadata": {
        "id": "view-in-github",
        "colab_type": "text"
      },
      "source": [
        "<a href=\"https://colab.research.google.com/github/robcovino/MSDAP_notebooks/blob/main/SBI_Tutorial.ipynb\" target=\"_parent\"><img src=\"https://colab.research.google.com/assets/colab-badge.svg\" alt=\"Open In Colab\"/></a>"
      ]
    },
    {
      "cell_type": "markdown",
      "id": "e6995130-d1eb-4098-868c-95d3a4c76f58",
      "metadata": {
        "id": "e6995130-d1eb-4098-868c-95d3a4c76f58"
      },
      "source": [
        "# Tutorial on Simulation-based inference\n",
        "\n",
        "Author: Lars Dingeldein\n",
        "\n"
      ]
    },
    {
      "cell_type": "code",
      "source": [
        "import numpy as np\n",
        "import matplotlib.pyplot as plt\n",
        "import scipy as scp\n",
        "import torch"
      ],
      "metadata": {
        "id": "sEoENGpfyyK4"
      },
      "id": "sEoENGpfyyK4",
      "execution_count": 1,
      "outputs": []
    },
    {
      "cell_type": "code",
      "source": [
        "pip install sbi"
      ],
      "metadata": {
        "colab": {
          "base_uri": "https://localhost:8080/"
        },
        "id": "AzmEkj5My1Wa",
        "outputId": "8166f923-5e6c-490c-8456-345c64756a6d"
      },
      "id": "AzmEkj5My1Wa",
      "execution_count": 2,
      "outputs": [
        {
          "output_type": "stream",
          "name": "stdout",
          "text": [
            "Collecting sbi\n",
            "  Downloading sbi-0.18.0-py2.py3-none-any.whl (283 kB)\n",
            "\u001b[K     |████████████████████████████████| 283 kB 5.0 MB/s \n",
            "\u001b[?25hRequirement already satisfied: tqdm in /usr/local/lib/python3.7/dist-packages (from sbi) (4.63.0)\n",
            "Requirement already satisfied: numpy in /usr/local/lib/python3.7/dist-packages (from sbi) (1.21.5)\n",
            "Requirement already satisfied: scikit-learn in /usr/local/lib/python3.7/dist-packages (from sbi) (1.0.2)\n",
            "Collecting pyknos>=0.14.2\n",
            "  Downloading pyknos-0.14.2-py2.py3-none-any.whl (21 kB)\n",
            "Requirement already satisfied: torch>=1.8.0 in /usr/local/lib/python3.7/dist-packages (from sbi) (1.10.0+cu111)\n",
            "Requirement already satisfied: matplotlib in /usr/local/lib/python3.7/dist-packages (from sbi) (3.2.2)\n",
            "Requirement already satisfied: pillow in /usr/local/lib/python3.7/dist-packages (from sbi) (7.1.2)\n",
            "Requirement already satisfied: scipy in /usr/local/lib/python3.7/dist-packages (from sbi) (1.4.1)\n",
            "Collecting pyro-ppl>=1.3.1\n",
            "  Downloading pyro_ppl-1.8.0-py3-none-any.whl (713 kB)\n",
            "\u001b[K     |████████████████████████████████| 713 kB 43.0 MB/s \n",
            "\u001b[?25hRequirement already satisfied: tensorboard in /usr/local/lib/python3.7/dist-packages (from sbi) (2.8.0)\n",
            "Requirement already satisfied: joblib>=1.0.0 in /usr/local/lib/python3.7/dist-packages (from sbi) (1.1.0)\n",
            "Collecting nflows==0.14\n",
            "  Downloading nflows-0.14.tar.gz (45 kB)\n",
            "\u001b[K     |████████████████████████████████| 45 kB 2.8 MB/s \n",
            "\u001b[?25hCollecting pyro-api>=0.1.1\n",
            "  Downloading pyro_api-0.1.2-py3-none-any.whl (11 kB)\n",
            "Requirement already satisfied: opt-einsum>=2.3.2 in /usr/local/lib/python3.7/dist-packages (from pyro-ppl>=1.3.1->sbi) (3.3.0)\n",
            "Requirement already satisfied: typing-extensions in /usr/local/lib/python3.7/dist-packages (from torch>=1.8.0->sbi) (3.10.0.2)\n",
            "Requirement already satisfied: python-dateutil>=2.1 in /usr/local/lib/python3.7/dist-packages (from matplotlib->sbi) (2.8.2)\n",
            "Requirement already satisfied: cycler>=0.10 in /usr/local/lib/python3.7/dist-packages (from matplotlib->sbi) (0.11.0)\n",
            "Requirement already satisfied: pyparsing!=2.0.4,!=2.1.2,!=2.1.6,>=2.0.1 in /usr/local/lib/python3.7/dist-packages (from matplotlib->sbi) (3.0.7)\n",
            "Requirement already satisfied: kiwisolver>=1.0.1 in /usr/local/lib/python3.7/dist-packages (from matplotlib->sbi) (1.3.2)\n",
            "Requirement already satisfied: six>=1.5 in /usr/local/lib/python3.7/dist-packages (from python-dateutil>=2.1->matplotlib->sbi) (1.15.0)\n",
            "Requirement already satisfied: threadpoolctl>=2.0.0 in /usr/local/lib/python3.7/dist-packages (from scikit-learn->sbi) (3.1.0)\n",
            "Requirement already satisfied: google-auth-oauthlib<0.5,>=0.4.1 in /usr/local/lib/python3.7/dist-packages (from tensorboard->sbi) (0.4.6)\n",
            "Requirement already satisfied: absl-py>=0.4 in /usr/local/lib/python3.7/dist-packages (from tensorboard->sbi) (1.0.0)\n",
            "Requirement already satisfied: setuptools>=41.0.0 in /usr/local/lib/python3.7/dist-packages (from tensorboard->sbi) (57.4.0)\n",
            "Requirement already satisfied: requests<3,>=2.21.0 in /usr/local/lib/python3.7/dist-packages (from tensorboard->sbi) (2.23.0)\n",
            "Requirement already satisfied: grpcio>=1.24.3 in /usr/local/lib/python3.7/dist-packages (from tensorboard->sbi) (1.44.0)\n",
            "Requirement already satisfied: wheel>=0.26 in /usr/local/lib/python3.7/dist-packages (from tensorboard->sbi) (0.37.1)\n",
            "Requirement already satisfied: tensorboard-plugin-wit>=1.6.0 in /usr/local/lib/python3.7/dist-packages (from tensorboard->sbi) (1.8.1)\n",
            "Requirement already satisfied: werkzeug>=0.11.15 in /usr/local/lib/python3.7/dist-packages (from tensorboard->sbi) (1.0.1)\n",
            "Requirement already satisfied: markdown>=2.6.8 in /usr/local/lib/python3.7/dist-packages (from tensorboard->sbi) (3.3.6)\n",
            "Requirement already satisfied: protobuf>=3.6.0 in /usr/local/lib/python3.7/dist-packages (from tensorboard->sbi) (3.17.3)\n",
            "Requirement already satisfied: google-auth<3,>=1.6.3 in /usr/local/lib/python3.7/dist-packages (from tensorboard->sbi) (1.35.0)\n",
            "Requirement already satisfied: tensorboard-data-server<0.7.0,>=0.6.0 in /usr/local/lib/python3.7/dist-packages (from tensorboard->sbi) (0.6.1)\n",
            "Requirement already satisfied: cachetools<5.0,>=2.0.0 in /usr/local/lib/python3.7/dist-packages (from google-auth<3,>=1.6.3->tensorboard->sbi) (4.2.4)\n",
            "Requirement already satisfied: pyasn1-modules>=0.2.1 in /usr/local/lib/python3.7/dist-packages (from google-auth<3,>=1.6.3->tensorboard->sbi) (0.2.8)\n",
            "Requirement already satisfied: rsa<5,>=3.1.4 in /usr/local/lib/python3.7/dist-packages (from google-auth<3,>=1.6.3->tensorboard->sbi) (4.8)\n",
            "Requirement already satisfied: requests-oauthlib>=0.7.0 in /usr/local/lib/python3.7/dist-packages (from google-auth-oauthlib<0.5,>=0.4.1->tensorboard->sbi) (1.3.1)\n",
            "Requirement already satisfied: importlib-metadata>=4.4 in /usr/local/lib/python3.7/dist-packages (from markdown>=2.6.8->tensorboard->sbi) (4.11.2)\n",
            "Requirement already satisfied: zipp>=0.5 in /usr/local/lib/python3.7/dist-packages (from importlib-metadata>=4.4->markdown>=2.6.8->tensorboard->sbi) (3.7.0)\n",
            "Requirement already satisfied: pyasn1<0.5.0,>=0.4.6 in /usr/local/lib/python3.7/dist-packages (from pyasn1-modules>=0.2.1->google-auth<3,>=1.6.3->tensorboard->sbi) (0.4.8)\n",
            "Requirement already satisfied: chardet<4,>=3.0.2 in /usr/local/lib/python3.7/dist-packages (from requests<3,>=2.21.0->tensorboard->sbi) (3.0.4)\n",
            "Requirement already satisfied: certifi>=2017.4.17 in /usr/local/lib/python3.7/dist-packages (from requests<3,>=2.21.0->tensorboard->sbi) (2021.10.8)\n",
            "Requirement already satisfied: idna<3,>=2.5 in /usr/local/lib/python3.7/dist-packages (from requests<3,>=2.21.0->tensorboard->sbi) (2.10)\n",
            "Requirement already satisfied: urllib3!=1.25.0,!=1.25.1,<1.26,>=1.21.1 in /usr/local/lib/python3.7/dist-packages (from requests<3,>=2.21.0->tensorboard->sbi) (1.24.3)\n",
            "Requirement already satisfied: oauthlib>=3.0.0 in /usr/local/lib/python3.7/dist-packages (from requests-oauthlib>=0.7.0->google-auth-oauthlib<0.5,>=0.4.1->tensorboard->sbi) (3.2.0)\n",
            "Building wheels for collected packages: nflows\n",
            "  Building wheel for nflows (setup.py) ... \u001b[?25l\u001b[?25hdone\n",
            "  Created wheel for nflows: filename=nflows-0.14-py3-none-any.whl size=53671 sha256=e3caaeeedc74fea934015c0ca4986a0e0a5d11ac10f231780ef999d7d9a0148b\n",
            "  Stored in directory: /root/.cache/pip/wheels/c0/b6/52/0092eedabce8f7faa35b92522393fbdc1ec5ede99b0ec820d5\n",
            "Successfully built nflows\n",
            "Installing collected packages: pyro-api, nflows, pyro-ppl, pyknos, sbi\n",
            "Successfully installed nflows-0.14 pyknos-0.14.2 pyro-api-0.1.2 pyro-ppl-1.8.0 sbi-0.18.0\n"
          ]
        }
      ]
    },
    {
      "cell_type": "code",
      "execution_count": 3,
      "id": "c7b1d9b5-5bf6-4c96-a247-18ec6b2952d7",
      "metadata": {
        "id": "c7b1d9b5-5bf6-4c96-a247-18ec6b2952d7"
      },
      "outputs": [],
      "source": [
        "from sbi import utils as utils\n",
        "from sbi import analysis as analysis\n",
        "from sbi.inference.base import infer\n",
        "from sbi.inference import SNPE, prepare_for_sbi, simulate_for_sbi"
      ]
    },
    {
      "cell_type": "markdown",
      "id": "1c78c0aa-49a7-4eec-947a-40a0a8c90d76",
      "metadata": {
        "id": "1c78c0aa-49a7-4eec-947a-40a0a8c90d76"
      },
      "source": [
        "# Defining our simulator"
      ]
    },
    {
      "cell_type": "markdown",
      "id": "d38dd3b7-314d-4b57-b568-59363ac3d544",
      "metadata": {
        "id": "d38dd3b7-314d-4b57-b568-59363ac3d544"
      },
      "source": [
        "First, we define our model as the python function `gaussian_model()` to evaluate it.  \n",
        "In this case our model will be :  \n",
        ">$x = 1 + \\theta + R_x(t)$  \n",
        "\n",
        "$x$ is our observation and $\\theta$ is the parameters. For multiple parameters, the same formula will be applied for each parameter.   \n",
        "Here $R_x(t)$ is Gaussian noise with zero mean and 1/10 variance."
      ]
    },
    {
      "cell_type": "code",
      "execution_count": 4,
      "id": "be024991-ef3f-43ac-8354-56b398d31a84",
      "metadata": {
        "id": "be024991-ef3f-43ac-8354-56b398d31a84"
      },
      "outputs": [],
      "source": [
        "def gaussian_model(theta: torch.Tensor):\n",
        "     return 1.0 + theta + torch.randn(theta.shape) * 0.1"
      ]
    },
    {
      "cell_type": "markdown",
      "id": "f29d2b5b-336c-4797-90e9-c8273c271a52",
      "metadata": {
        "id": "f29d2b5b-336c-4797-90e9-c8273c271a52"
      },
      "source": [
        "# Defining our prior"
      ]
    },
    {
      "cell_type": "markdown",
      "id": "b9950b35-d2d5-4018-a723-2e0b6222a8a2",
      "metadata": {
        "id": "b9950b35-d2d5-4018-a723-2e0b6222a8a2"
      },
      "source": [
        "Here we define our prior for the inference.  \n",
        "We will choose a box prior, where each parameter is uncorrelated to the other $p(\\mu, \\sigma) = p(\\mu)p(\\sigma)$.  \n",
        "The box-shaped prior is generated in python with the class `utils.BoxUniform`."
      ]
    },
    {
      "cell_type": "code",
      "execution_count": 5,
      "id": "2c77f2e6-fc4b-446e-935f-9aecbb0dda9c",
      "metadata": {
        "id": "2c77f2e6-fc4b-446e-935f-9aecbb0dda9c"
      },
      "outputs": [],
      "source": [
        "a_limits = (-2, 2) # Limits of parameter a (lower limit, upper limit)\n",
        "b_limits = (-2, 2) # Limits of parameter b (lower limit, upper limit)\n",
        "\n",
        "prior = utils.BoxUniform(low=torch.tensor([a_limits[0], b_limits[0]]), high=torch.tensor([a_limits[1], b_limits[1]]))"
      ]
    },
    {
      "cell_type": "markdown",
      "id": "e8085d62-adc1-4031-9cd6-cc45df8ffa3d",
      "metadata": {
        "id": "e8085d62-adc1-4031-9cd6-cc45df8ffa3d"
      },
      "source": [
        "To make everything compatible with the sbi library we will use a function that wraps our python model to fit the sbi library standard.  \n",
        "Therefore we need to call the `prepare_for_sbi()` function with our model and the prior."
      ]
    },
    {
      "cell_type": "code",
      "execution_count": 6,
      "id": "fb5986c2-62bd-439e-ac94-0c61b8a2967b",
      "metadata": {
        "id": "fb5986c2-62bd-439e-ac94-0c61b8a2967b"
      },
      "outputs": [],
      "source": [
        "sbi_model, prior = prepare_for_sbi(gaussian_model, prior)"
      ]
    },
    {
      "cell_type": "markdown",
      "id": "1aa864b0-7075-480f-8552-0fe2d785558d",
      "metadata": {
        "id": "1aa864b0-7075-480f-8552-0fe2d785558d"
      },
      "source": [
        "# Generating a synthetic observation  \n",
        "In the next step, we generate a synthetic observation for which we want to estimate the parameters.  \n",
        "The variable `true_parameters` contains the parameters we use to simulate the synthetic observation.  \n",
        "With the `gaussian_model()` function we then simulate our observation"
      ]
    },
    {
      "cell_type": "code",
      "execution_count": 7,
      "id": "872e6eb0-b2e4-4e72-a06b-02d21a8dbedc",
      "metadata": {
        "id": "872e6eb0-b2e4-4e72-a06b-02d21a8dbedc"
      },
      "outputs": [],
      "source": [
        "true_parameters = torch.tensor([1, 1]) # [first parameter, second parameter]\n",
        "observation = gaussian_model(true_parameters)"
      ]
    },
    {
      "cell_type": "code",
      "execution_count": 8,
      "id": "3a99468b-65a1-435f-9d43-cee26a96a159",
      "metadata": {
        "colab": {
          "base_uri": "https://localhost:8080/"
        },
        "id": "3a99468b-65a1-435f-9d43-cee26a96a159",
        "outputId": "f93fc6c3-1f23-4607-cdd1-89ad162acc55"
      },
      "outputs": [
        {
          "output_type": "stream",
          "name": "stdout",
          "text": [
            "The observation we simulated :  tensor([2.0413, 2.1805])\n"
          ]
        }
      ],
      "source": [
        "print('The observation we simulated : ', observation)"
      ]
    },
    {
      "cell_type": "markdown",
      "id": "f553f4ec-a9b4-4925-b21a-224ed3146cde",
      "metadata": {
        "id": "f553f4ec-a9b4-4925-b21a-224ed3146cde"
      },
      "source": [
        "# ABC"
      ]
    },
    {
      "cell_type": "markdown",
      "id": "817f4d42-014c-455d-97ed-f2ae1e9daa1f",
      "metadata": {
        "id": "817f4d42-014c-455d-97ed-f2ae1e9daa1f"
      },
      "source": [
        "Draw samples from $p(\\theta)$.\n",
        "Samples are drawn with the python method `.sample()`. The first argument defines how many samples we want to draw. "
      ]
    },
    {
      "cell_type": "code",
      "execution_count": 9,
      "id": "ad124ecf-b1f5-4b7a-9753-7f0ece386dc8",
      "metadata": {
        "id": "ad124ecf-b1f5-4b7a-9753-7f0ece386dc8"
      },
      "outputs": [],
      "source": [
        "N_samples = 100000  # Number of samples drawn from the prior\n",
        "prior_samples = prior.sample((N_samples,))"
      ]
    },
    {
      "cell_type": "markdown",
      "id": "2e5559cb-18c1-4248-92b9-e3b430337014",
      "metadata": {
        "id": "2e5559cb-18c1-4248-92b9-e3b430337014"
      },
      "source": [
        "Simulate corresponding observations $x_i \\sim p(x_i|\\theta)$  "
      ]
    },
    {
      "cell_type": "code",
      "execution_count": 10,
      "id": "66c86f1d-4e3c-4f8b-af55-2a0504215f8a",
      "metadata": {
        "id": "66c86f1d-4e3c-4f8b-af55-2a0504215f8a"
      },
      "outputs": [],
      "source": [
        "simulation_results = sbi_model(prior_samples)"
      ]
    },
    {
      "cell_type": "markdown",
      "id": "bcf79ec0-f25d-415b-83d7-4af877de0a3f",
      "metadata": {
        "id": "bcf79ec0-f25d-415b-83d7-4af877de0a3f"
      },
      "source": [
        "In the next step we want to reject all prior samples for which $d(x_0, x) > \\epsilon$ holds on.  \n",
        "For that we have to choose a distance function $d(x_0, x)$ and a threshold value $\\epsilon$.\n",
        "We choose $d(x_0, x) = (x - x_0)^2$.  \n",
        "This is defined by `torch.sum((simulation_results - observation)**2, dim=1)`."
      ]
    },
    {
      "cell_type": "code",
      "execution_count": 11,
      "id": "67c60dcb-ff6a-4029-818b-65e3e9489535",
      "metadata": {
        "id": "67c60dcb-ff6a-4029-818b-65e3e9489535"
      },
      "outputs": [],
      "source": [
        "epsilon = 0.2  # Treshold value epsilon for ABC"
      ]
    },
    {
      "cell_type": "code",
      "execution_count": 12,
      "id": "4781e49b-e259-48b8-921d-b91d8874c630",
      "metadata": {
        "id": "4781e49b-e259-48b8-921d-b91d8874c630"
      },
      "outputs": [],
      "source": [
        "idx = torch.sum((simulation_results - observation)**2, dim=1) < epsilon"
      ]
    },
    {
      "cell_type": "code",
      "execution_count": 13,
      "id": "90e19564-5dca-4b96-b802-a52e1aa59f3f",
      "metadata": {
        "colab": {
          "base_uri": "https://localhost:8080/"
        },
        "id": "90e19564-5dca-4b96-b802-a52e1aa59f3f",
        "outputId": "cb0441bf-427a-46d4-a07f-f2ed4cbc94b2"
      },
      "outputs": [
        {
          "output_type": "stream",
          "name": "stdout",
          "text": [
            "The number of accepted samples :  3.87 %\n"
          ]
        }
      ],
      "source": [
        "print('The number of accepted samples : ',  format(float(sum(idx)/N_samples * 100), '.2f'), '%')"
      ]
    },
    {
      "cell_type": "markdown",
      "id": "8091e1b4-f09b-43be-b448-aa13d379599a",
      "metadata": {
        "id": "8091e1b4-f09b-43be-b448-aa13d379599a"
      },
      "source": [
        "Now we only have to select our prior samples for the simulation which were accepted.  \n",
        "After that, we can plot our posterior samples with the function provided by the sbi package."
      ]
    },
    {
      "cell_type": "code",
      "execution_count": 14,
      "id": "a6df374d-8694-4fce-b4c9-3f2ba31c5114",
      "metadata": {
        "id": "a6df374d-8694-4fce-b4c9-3f2ba31c5114"
      },
      "outputs": [],
      "source": [
        "posterior_samples = prior_samples[idx]"
      ]
    },
    {
      "cell_type": "code",
      "execution_count": 15,
      "id": "b803b808-cb7e-491d-a81f-70e531164b46",
      "metadata": {
        "colab": {
          "base_uri": "https://localhost:8080/",
          "height": 457
        },
        "id": "b803b808-cb7e-491d-a81f-70e531164b46",
        "outputId": "9d31f7c8-8f68-4406-b1a9-090d2997e710"
      },
      "outputs": [
        {
          "output_type": "display_data",
          "data": {
            "text/plain": [
              "<Figure size 504x504 with 4 Axes>"
            ],
            "image/png": "[encoded data removed]"
          },
          "metadata": {
            "needs_background": "light"
          }
        }
      ],
      "source": [
        "_ = analysis.pairplot(posterior_samples, limits=[a_limits, b_limits], figsize=(7,7), \n",
        "                      points=true_parameters, points_offdiag={'markersize': 6},\n",
        "                      points_colors='r', labels=[r'sigma', r'mu'])"
      ]
    },
    {
      "cell_type": "markdown",
      "id": "182ce275-d6e8-431a-915e-f2e28d2e8c23",
      "metadata": {
        "id": "182ce275-d6e8-431a-915e-f2e28d2e8c23"
      },
      "source": [
        "In the figure, we can see three different plots.  \n",
        "The 2d histogramm in the upper left corner represents the full posterior.  \n",
        ">$p(\\mu, \\sigma|x_0)$  \n",
        "\n",
        "The 1d histogramms can be interpreted as the marginals of the posterior.  \n",
        ">$p(\\mu|x_0) = \\int_{\\sigma} p(\\mu, \\sigma|x_0)d\\sigma$  \n",
        ">$p(\\sigma|x_0) = \\int_{\\mu} p(\\mu, \\sigma|x_0)d\\mu$"
      ]
    },
    {
      "cell_type": "markdown",
      "id": "7581e24e-413a-4817-a012-254425d0c109",
      "metadata": {
        "id": "7581e24e-413a-4817-a012-254425d0c109"
      },
      "source": [
        "# Neural Posterior Estimation"
      ]
    },
    {
      "cell_type": "markdown",
      "id": "b23b00ea-91fd-4983-a122-da03a43e12bc",
      "metadata": {
        "id": "b23b00ea-91fd-4983-a122-da03a43e12bc"
      },
      "source": [
        "In order to perform the likelihood-free inference by fitting the posterior distribution  \n",
        "wee need just one extra line of code which will do everything for us.  \n",
        "The method `infer` from the sbi framework, will run the simulations for us, set up and train the desniity estimator.  \n",
        "Depending on the cpu your computer has this can take a couple of minutes."
      ]
    },
    {
      "cell_type": "code",
      "execution_count": null,
      "id": "a5a21509-1861-4166-9cc9-b33994a48147",
      "metadata": {
        "id": "a5a21509-1861-4166-9cc9-b33994a48147"
      },
      "outputs": [],
      "source": [
        "N_simulations = 1000  # Number of simulations used for Neural posterior estimation"
      ]
    },
    {
      "cell_type": "code",
      "execution_count": null,
      "id": "93a309ac-8835-4306-ae52-41e315127cfc",
      "metadata": {
        "scrolled": true,
        "colab": {
          "referenced_widgets": [
            "46e0e966a2b7439789dfc125e15396a7"
          ]
        },
        "id": "93a309ac-8835-4306-ae52-41e315127cfc",
        "outputId": "7d25b97a-ed07-42d3-84d1-05d9c4f27b1d"
      },
      "outputs": [
        {
          "data": {
            "application/vnd.jupyter.widget-view+json": {
              "model_id": "46e0e966a2b7439789dfc125e15396a7",
              "version_major": 2,
              "version_minor": 0
            },
            "text/plain": [
              "Running 1000 simulations.:   0%|          | 0/1000 [00:00<?, ?it/s]"
            ]
          },
          "metadata": {},
          "output_type": "display_data"
        },
        {
          "name": "stdout",
          "output_type": "stream",
          "text": [
            "Neural network successfully converged after 129 epochs.\n"
          ]
        }
      ],
      "source": [
        "posterior = infer(sbi_model, prior, method='SNPE', num_simulations=N_simulations, num_workers=1)"
      ]
    },
    {
      "cell_type": "markdown",
      "id": "e4b0b587-f2c1-41b8-8c12-1d8a7b6641d9",
      "metadata": {
        "id": "e4b0b587-f2c1-41b8-8c12-1d8a7b6641d9"
      },
      "source": [
        "# Sampling the posterior for different observed data"
      ]
    },
    {
      "cell_type": "markdown",
      "id": "e66dbfa9-1758-4433-9152-bf3be6986450",
      "metadata": {
        "id": "e66dbfa9-1758-4433-9152-bf3be6986450"
      },
      "source": [
        "In the end, we just have to generate samples from our posterior distribution to plot it.  \n",
        "Therefore we use again the `.sample()` method for our posterior distribution."
      ]
    },
    {
      "cell_type": "code",
      "execution_count": null,
      "id": "6ad654bc-1bf1-4345-8583-b0342591cbd7",
      "metadata": {
        "colab": {
          "referenced_widgets": [
            "53b37dbc9291497e9df6417b86e7f3cc"
          ]
        },
        "id": "6ad654bc-1bf1-4345-8583-b0342591cbd7",
        "outputId": "aeabcd76-e7c1-4d9c-a1c4-4427ba47c7c3"
      },
      "outputs": [
        {
          "data": {
            "application/vnd.jupyter.widget-view+json": {
              "model_id": "53b37dbc9291497e9df6417b86e7f3cc",
              "version_major": 2,
              "version_minor": 0
            },
            "text/plain": [
              "Drawing 100000 posterior samples:   0%|          | 0/100000 [00:00<?, ?it/s]"
            ]
          },
          "metadata": {},
          "output_type": "display_data"
        },
        {
          "data": {
            "image/png": "[encoded data removed]",
            "text/plain": [
              "<Figure size 504x504 with 4 Axes>"
            ]
          },
          "metadata": {
            "needs_background": "light"
          },
          "output_type": "display_data"
        }
      ],
      "source": [
        "samples = posterior.sample((100000,), x=observation)\n",
        "_ = analysis.pairplot(samples, limits=[a_limits, b_limits], figsize=(7,7), \n",
        "                      points=true_parameters, points_offdiag={'markersize': 6},\n",
        "                      points_colors='r', labels=[r'sigma', r'mu'])"
      ]
    },
    {
      "cell_type": "markdown",
      "id": "4790fb1d-960c-482c-8a33-9eba0432ea71",
      "metadata": {
        "id": "4790fb1d-960c-482c-8a33-9eba0432ea71"
      },
      "source": [
        "In the figure we can see 3 different plots.  \n",
        "The 2d histogramm in the upper left corner represents the full posterior.  \n",
        ">$p(\\mu, \\sigma|x_0)$  \n",
        "\n",
        "The 1d histogramms can be interpreted as the marginals of the posterior.  \n",
        ">$p(\\mu|x_0) = \\int_{\\sigma} p(\\mu, \\sigma|x_0)d\\sigma$  \n",
        ">$p(\\sigma|x_0) = \\int_{\\mu} p(\\mu, \\sigma|x_0)d\\mu$"
      ]
    }
  ],
  "metadata": {
    "kernelspec": {
      "display_name": "Python 3 (ipykernel)",
      "language": "python",
      "name": "python3"
    },
    "language_info": {
      "codemirror_mode": {
        "name": "ipython",
        "version": 3
      },
      "file_extension": ".py",
      "mimetype": "text/x-python",
      "name": "python",
      "nbconvert_exporter": "python",
      "pygments_lexer": "ipython3",
      "version": "3.8.12"
    },
    "widgets": {
      "application/vnd.jupyter.widget-state+json": {}
    },
    "colab": {
      "name": "SBI_Tutorial.ipynb",
      "provenance": [],
      "include_colab_link": true
    }
  },
  "nbformat": 4,
  "nbformat_minor": 5
}