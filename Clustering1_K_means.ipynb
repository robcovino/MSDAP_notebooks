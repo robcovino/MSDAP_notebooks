{
  "nbformat": 4,
  "nbformat_minor": 0,
  "metadata": {
    "colab": {
      "name": "Clustering1 - K-means.ipynb",
      "provenance": [],
      "authorship_tag": "ABX9TyMfkKvvpQr3yPnfYy1pinKx",
      "include_colab_link": true
    },
    "kernelspec": {
      "name": "python3",
      "display_name": "Python 3"
    },
    "language_info": {
      "name": "python"
    }
  },
  "cells": [
    {
      "cell_type": "markdown",
      "metadata": {
        "id": "view-in-github",
        "colab_type": "text"
      },
      "source": [
        "<a href=\"https://colab.research.google.com/github/robcovino/MSDAP_notebooks/blob/main/Clustering1_K_means.ipynb\" target=\"_parent\"><img src=\"https://colab.research.google.com/assets/colab-badge.svg\" alt=\"Open In Colab\"/></a>"
      ]
    },
    {
      "cell_type": "code",
      "source": [
        "import numpy as np\n",
        "import matplotlib.pyplot as plt\n",
        "%matplotlib inline"
      ],
      "metadata": {
        "id": "f-kiWWiNL1G9"
      },
      "execution_count": null,
      "outputs": []
    },
    {
      "cell_type": "markdown",
      "source": [
        "---\n",
        "## 1. My first clustering with K-means\n",
        "\n",
        "Here we start to explore the exciting world of clustering of data. To do so, we will follow a very common strategy. We will create synthetic data that we completely control, and use them to understand what the clustering algorithm is actually doing, and identify its limiations."
      ],
      "metadata": {
        "id": "fN85G6VUQlD7"
      }
    },
    {
      "cell_type": "code",
      "source": [
        "from sklearn.datasets import make_blobs\n",
        "X,y = make_blobs(centers=2, n_samples=200, random_state=0, cluster_std=0.3)\n",
        "print(X[:10],y[:10])"
      ],
      "metadata": {
        "colab": {
          "base_uri": "https://localhost:8080/"
        },
        "id": "oiAJ3hQIMDUe",
        "outputId": "97250cc4-75e4-4912-a9ce-579d2fbba364"
      },
      "execution_count": null,
      "outputs": [
        {
          "output_type": "stream",
          "name": "stdout",
          "text": [
            "[[2.28526648 1.00455151]\n",
            " [1.93543281 1.00868043]\n",
            " [2.37582034 0.76164792]\n",
            " [1.86403641 0.77848212]\n",
            " [1.43610384 4.74459496]\n",
            " [0.77453194 4.19592138]\n",
            " [1.01948315 4.74006938]\n",
            " [0.70993435 3.70954839]\n",
            " [2.01540335 0.8083264 ]\n",
            " [0.48721057 4.442622  ]] [1 1 1 1 0 0 0 0 1 0]\n"
          ]
        }
      ]
    },
    {
      "cell_type": "markdown",
      "source": [
        "Q1. Plot these data sets. What do centers and cluster_std control? "
      ],
      "metadata": {
        "id": "ctfjgM5bMI0y"
      }
    },
    {
      "cell_type": "code",
      "source": [
        ""
      ],
      "metadata": {
        "id": "BEASHt4VMzi1"
      },
      "execution_count": null,
      "outputs": []
    },
    {
      "cell_type": "markdown",
      "source": [
        "Now produce a data set with 4 clusters. "
      ],
      "metadata": {
        "id": "kFy_EzZxMnoR"
      }
    },
    {
      "cell_type": "code",
      "source": [
        ""
      ],
      "metadata": {
        "id": "resIj-CZM0yp"
      },
      "execution_count": null,
      "outputs": []
    },
    {
      "cell_type": "markdown",
      "source": [
        "The scikit-learn library has an implementation of the k-means algorithm. Let's apply it to a set of randomly generated blobs, whose labels we throw away."
      ],
      "metadata": {
        "id": "ShZOjU3mM95u"
      }
    },
    {
      "cell_type": "code",
      "source": [
        "from sklearn.cluster import KMeans\n",
        "model = KMeans(4)\n",
        "model.fit(X)\n",
        "print(model.cluster_centers_)"
      ],
      "metadata": {
        "colab": {
          "base_uri": "https://localhost:8080/"
        },
        "id": "8jhAJdqdMUUJ",
        "outputId": "61fe05ce-9912-49b7-ae90-deacc6c57284"
      },
      "execution_count": null,
      "outputs": [
        {
          "output_type": "stream",
          "name": "stdout",
          "text": [
            "[[0.77480183 4.37068268]\n",
            " [1.86332135 1.0208548 ]\n",
            " [1.28833869 4.28979518]\n",
            " [2.17026982 0.68626564]]\n"
          ]
        }
      ]
    },
    {
      "cell_type": "markdown",
      "source": [
        "Q2. What does the argument of KMeans control?"
      ],
      "metadata": {
        "id": "FViiRvhINCS1"
      }
    },
    {
      "cell_type": "code",
      "source": [
        "plt.scatter(X[:,0],X[:,1], c=model.labels_);\n",
        "plt.scatter(model.cluster_centers_[:,0], model.cluster_centers_[:,1], s=100, color=\"red\"); # Show the centres"
      ],
      "metadata": {
        "colab": {
          "base_uri": "https://localhost:8080/",
          "height": 265
        },
        "id": "4eXLLwnmMt1w",
        "outputId": "846d9142-3fb1-42f6-d45c-3c6db9eb0779"
      },
      "execution_count": null,
      "outputs": [
        {
          "output_type": "display_data",
          "data": {
            "text/plain": [
              "<Figure size 432x288 with 1 Axes>"
            ],
            "image/png": "[encoded data removed]"
          },
          "metadata": {
            "needs_background": "light"
          }
        }
      ]
    },
    {
      "cell_type": "markdown",
      "source": [
        "The clustering looks more or less correct. To get a more quantitative measure of success we can get the accuracy score."
      ],
      "metadata": {
        "id": "9DCvvOlbNTCE"
      }
    },
    {
      "cell_type": "code",
      "source": [
        "from sklearn.metrics import accuracy_score\n",
        "acc=accuracy_score(y, model.labels_)\n",
        "print(\"Accuracy score is\", acc)"
      ],
      "metadata": {
        "colab": {
          "base_uri": "https://localhost:8080/"
        },
        "id": "Tvy9A_YBNInI",
        "outputId": "4858ca18-fbd6-4cab-8c3d-d683b15ce0a5"
      },
      "execution_count": null,
      "outputs": [
        {
          "output_type": "stream",
          "name": "stdout",
          "text": [
            "Accuracy score is 0.565\n"
          ]
        }
      ]
    },
    {
      "cell_type": "markdown",
      "source": [
        "Q3. Does this accuracy score make sense to you? If not, what has possibly gotten wrong? Why is the function below fixing the problem? Use it to get the right accuracy score."
      ],
      "metadata": {
        "id": "3zriScGYNaql"
      }
    },
    {
      "cell_type": "code",
      "source": [
        "import scipy\n",
        "def find_permutation(n_clusters, real_labels, labels):\n",
        "    permutation=[]\n",
        "    for i in range(n_clusters):\n",
        "        idx = labels == i\n",
        "        new_label=scipy.stats.mode(real_labels[idx])[0][0]  # Choose the most common label among data points in the cluster\n",
        "        permutation.append(new_label)\n",
        "    return permutation"
      ],
      "metadata": {
        "id": "tBTc3PpyNn9w"
      },
      "execution_count": null,
      "outputs": []
    },
    {
      "cell_type": "code",
      "source": [
        ""
      ],
      "metadata": {
        "id": "bTlOZuzLN05X"
      },
      "execution_count": null,
      "outputs": []
    },
    {
      "cell_type": "code",
      "source": [
        "new_labels = [ permutation[label] for label in model.labels_]   # permute the labels\n",
        "print(\"Accuracy score is\", accuracy_score(y, new_labels))"
      ],
      "metadata": {
        "colab": {
          "base_uri": "https://localhost:8080/"
        },
        "id": "Ny1zPlVLN3MV",
        "outputId": "fbb305ad-2824-42ba-b3dc-cc6be719167e"
      },
      "execution_count": null,
      "outputs": [
        {
          "output_type": "stream",
          "name": "stdout",
          "text": [
            "Accuracy score is 1.0\n"
          ]
        }
      ]
    },
    {
      "cell_type": "markdown",
      "source": [
        "Q4. Check how the accuracy score depends on the cluster_std parameter. Repeat the clustering at increasing values of <b> cluster_std </b>."
      ],
      "metadata": {
        "id": "wumBlKpjOXOJ"
      }
    },
    {
      "cell_type": "code",
      "source": [
        ""
      ],
      "metadata": {
        "id": "vwx82NEFN-Ix"
      },
      "execution_count": null,
      "outputs": []
    },
    {
      "cell_type": "markdown",
      "source": [
        "Q5. What happens if you initialize K-means with a wrong number of clusters hyper-parameter?"
      ],
      "metadata": {
        "id": "SYZajL5WPD6g"
      }
    },
    {
      "cell_type": "code",
      "source": [
        ""
      ],
      "metadata": {
        "id": "n8ymBnpnOpcs"
      },
      "execution_count": null,
      "outputs": []
    },
    {
      "cell_type": "markdown",
      "source": [
        "Let's change our data type."
      ],
      "metadata": {
        "id": "mOHlklapPaP-"
      }
    },
    {
      "cell_type": "code",
      "source": [
        "from sklearn.datasets import make_moons\n",
        "X,y = make_moons(200, noise=0.05, random_state=0)"
      ],
      "metadata": {
        "id": "GNTpf84dPOh9"
      },
      "execution_count": null,
      "outputs": []
    },
    {
      "cell_type": "code",
      "source": [
        ""
      ],
      "metadata": {
        "id": "DhaWm9mgPew4"
      },
      "execution_count": null,
      "outputs": []
    },
    {
      "cell_type": "markdown",
      "source": [
        "Q6. Plot the data. What is the main difference with the previous data type?\n",
        "\n",
        "Q7. Identify the clusters by using K-means."
      ],
      "metadata": {
        "id": "wCSvnThzPiag"
      }
    },
    {
      "cell_type": "code",
      "source": [
        ""
      ],
      "metadata": {
        "id": "ir-V8AxNPgxS"
      },
      "execution_count": null,
      "outputs": []
    },
    {
      "cell_type": "markdown",
      "source": [
        "Let's try a different clustering technique: DBSCAN."
      ],
      "metadata": {
        "id": "d-CcD1K3P0s2"
      }
    },
    {
      "cell_type": "code",
      "source": [
        "from sklearn.cluster import DBSCAN\n",
        "model = DBSCAN(eps=0.3)\n"
      ],
      "metadata": {
        "id": "i_Ld9fFPPu2B"
      },
      "execution_count": null,
      "outputs": []
    },
    {
      "cell_type": "markdown",
      "source": [
        "Q8. Cluster the preivous data structure with DBSCAN.\n",
        "\n",
        "Q9. Do you still have to prescribe the number of clusters? "
      ],
      "metadata": {
        "id": "XGpxDD54QHQw"
      }
    },
    {
      "cell_type": "markdown",
      "source": [
        "## 2. Clustering digits with K-means\n",
        "\n",
        "Using scikit-learn we can download a set of 1797 images of handwritten digits with the correct labels 0,1,...,9. The images have quite a low resolution: 8*8=64 pixels. Let's see how our machine learning method works with this kind of data."
      ],
      "metadata": {
        "id": "3NDg9FTIQff6"
      }
    },
    {
      "cell_type": "code",
      "source": [
        "from sklearn.datasets import load_digits\n",
        "digits = load_digits()\n",
        "digits.data.shape"
      ],
      "metadata": {
        "colab": {
          "base_uri": "https://localhost:8080/"
        },
        "id": "xJ_oUBzpP_oq",
        "outputId": "84c26ecb-cd2d-45da-e5ac-78b1d1d3c905"
      },
      "execution_count": null,
      "outputs": [
        {
          "output_type": "execute_result",
          "data": {
            "text/plain": [
              "(1797, 64)"
            ]
          },
          "metadata": {},
          "execution_count": 79
        }
      ]
    },
    {
      "cell_type": "markdown",
      "source": [
        "Q9b. Use the pyplot function imshow to plot the first 10 entries. "
      ],
      "metadata": {
        "id": "tm3ZZi-YQ4_Y"
      }
    },
    {
      "cell_type": "code",
      "source": [
        ""
      ],
      "metadata": {
        "id": "aR_mMpDSQ2oL"
      },
      "execution_count": null,
      "outputs": []
    },
    {
      "cell_type": "markdown",
      "source": [
        "Q10. Cluster the pictures of the digits using K-means, visualize the cluster centers, and calculate the accuracy of the clustering. "
      ],
      "metadata": {
        "id": "bvDVFLSSRM-7"
      }
    },
    {
      "cell_type": "code",
      "source": [
        ""
      ],
      "metadata": {
        "id": "GTPzchGZQ7kE"
      },
      "execution_count": null,
      "outputs": []
    },
    {
      "cell_type": "code",
      "source": [
        ""
      ],
      "metadata": {
        "id": "rcaFspVFRWLN"
      },
      "execution_count": null,
      "outputs": []
    },
    {
      "cell_type": "code",
      "source": [
        ""
      ],
      "metadata": {
        "id": "yTaP5DshRb4D"
      },
      "execution_count": null,
      "outputs": []
    },
    {
      "cell_type": "markdown",
      "source": [
        "Notebook based on:\n",
        "\n",
        "https://colab.research.google.com/github/csmastersUH/data_analysis_with_python_spring_2020/blob/master/clustering.ipynb#scrollTo=blpDjoE_FOuu"
      ],
      "metadata": {
        "id": "BBmofw2UL12z"
      }
    },
    {
      "cell_type": "code",
      "source": [
        ""
      ],
      "metadata": {
        "id": "_GSZxTWWSA3M"
      },
      "execution_count": null,
      "outputs": []
    }
  ]
}